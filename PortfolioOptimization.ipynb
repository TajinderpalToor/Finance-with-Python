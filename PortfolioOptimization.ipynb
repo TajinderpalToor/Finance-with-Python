{
  "nbformat": 4,
  "nbformat_minor": 0,
  "metadata": {
    "colab": {
      "provenance": []
    },
    "kernelspec": {
      "name": "python3",
      "display_name": "Python 3"
    },
    "language_info": {
      "name": "python"
    }
  },
  "cells": [
    {
      "cell_type": "markdown",
      "source": [
        "- given a set of stocks and assets, get the ideal portfolio, how much % of each for max return and min loss\n",
        "- uses the sharpe ratio = portfolio return-risk free rate/st dev\n",
        "\n"
      ],
      "metadata": {
        "id": "ZOkBIPOtHR5m"
      }
    },
    {
      "cell_type": "code",
      "execution_count": null,
      "metadata": {
        "id": "zrpXKhprHL8h"
      },
      "outputs": [],
      "source": [
        "import yfinance as yf\n",
        "import pandas as pd\n",
        "from datetime import datetime,timedelta\n",
        "import numpy as np\n",
        "from scipy.optimize import minimize"
      ]
    },
    {
      "cell_type": "code",
      "source": [
        "#define the list of tickers\n",
        "\n",
        "tickers=['SPY','BND','GLD','QQQ','VTI']\n"
      ],
      "metadata": {
        "id": "1oHGdcthH6r_"
      },
      "execution_count": null,
      "outputs": []
    },
    {
      "cell_type": "code",
      "source": [
        "end_date= datetime.today()"
      ],
      "metadata": {
        "id": "in0a-K9tIRov"
      },
      "execution_count": null,
      "outputs": []
    },
    {
      "cell_type": "code",
      "source": [
        "start_date= end_date - timedelta(days=5*365)\n",
        "print(start_date)"
      ],
      "metadata": {
        "colab": {
          "base_uri": "https://localhost:8080/"
        },
        "id": "QUM6QZaXIVC0",
        "outputId": "074d577a-21b6-42d7-ced7-29df9682043d"
      },
      "execution_count": null,
      "outputs": [
        {
          "output_type": "stream",
          "name": "stdout",
          "text": [
            "2018-12-05 05:00:54.864144\n"
          ]
        }
      ]
    },
    {
      "cell_type": "code",
      "source": [
        "#Download adjusted closed prices\n",
        "adj_close_df=pd.DataFrame()\n",
        "for ticker in tickers:\n",
        "  data=yf.download(ticker,start=start_date,end=end_date)\n",
        "  adj_close_df[ticker]=data['Adj Close']"
      ],
      "metadata": {
        "colab": {
          "base_uri": "https://localhost:8080/"
        },
        "id": "606TIrLvM6Q6",
        "outputId": "b6f24d3f-9882-49e4-c4ee-9f2a67cf250b"
      },
      "execution_count": null,
      "outputs": [
        {
          "output_type": "stream",
          "name": "stdout",
          "text": [
            "[*********************100%%**********************]  1 of 1 completed\n",
            "[*********************100%%**********************]  1 of 1 completed\n",
            "[*********************100%%**********************]  1 of 1 completed\n",
            "[*********************100%%**********************]  1 of 1 completed\n",
            "[*********************100%%**********************]  1 of 1 completed\n"
          ]
        }
      ]
    },
    {
      "cell_type": "code",
      "source": [
        "print(adj_close_df)"
      ],
      "metadata": {
        "colab": {
          "base_uri": "https://localhost:8080/"
        },
        "id": "BEnJC9xUNKqL",
        "outputId": "89ad5258-8b64-4bcc-fcd2-82b410471146"
      },
      "execution_count": null,
      "outputs": [
        {
          "output_type": "stream",
          "name": "stdout",
          "text": [
            "                   SPY        BND         GLD         QQQ         VTI\n",
            "Date                                                                 \n",
            "2018-12-06  248.234039  68.952103  117.139999  161.431442  127.113922\n",
            "2018-12-07  242.466125  69.092789  118.089996  156.101700  124.114548\n",
            "2018-12-10  242.926102  69.163177  117.680000  157.736435  124.252609\n",
            "2018-12-11  242.981277  69.171959  117.540001  158.258789  124.224976\n",
            "2018-12-12  244.204773  69.101578  117.790001  159.651672  124.933403\n",
            "...                ...        ...         ...         ...         ...\n",
            "2023-11-27  454.480011  70.790237  186.770004  389.170013  225.089996\n",
            "2023-11-28  454.929993  71.089394  189.259995  390.190002  225.229996\n",
            "2023-11-29  454.609985  71.458359  189.539993  389.809998  225.330002\n",
            "2023-11-30  456.399994  71.229004  188.750000  388.829987  226.259995\n",
            "2023-12-01  459.100006  71.809998  192.009995  389.940002  228.169998\n",
            "\n",
            "[1256 rows x 5 columns]\n"
          ]
        }
      ]
    },
    {
      "cell_type": "code",
      "source": [
        "#Calculate Lognormal Returns\n",
        "log_returns=np.log(adj_close_df/adj_close_df.shift(1))"
      ],
      "metadata": {
        "id": "eM_sqj3zNnMG"
      },
      "execution_count": null,
      "outputs": []
    },
    {
      "cell_type": "code",
      "source": [
        "#drop any missing log values\n",
        "log_returns=log_returns.dropna()"
      ],
      "metadata": {
        "id": "l2W1GPIGOqa_"
      },
      "execution_count": null,
      "outputs": []
    },
    {
      "cell_type": "markdown",
      "source": [
        "- calcualte covariance matrix, this is used to measure total risk, each asset has a covariance and corelation with each other"
      ],
      "metadata": {
        "id": "pzNckZvoO2Y5"
      }
    },
    {
      "cell_type": "code",
      "source": [
        "#do multiply by 252 to annulize returns\n",
        "cov_matrix=log_returns.cov()*252\n",
        "print(cov_matrix)"
      ],
      "metadata": {
        "colab": {
          "base_uri": "https://localhost:8080/"
        },
        "id": "o4QAXPaTO1lR",
        "outputId": "5435d4d5-e501-454d-809f-c9f30eb31625"
      },
      "execution_count": null,
      "outputs": [
        {
          "output_type": "stream",
          "name": "stdout",
          "text": [
            "          SPY       BND       GLD       QQQ       VTI\n",
            "SPY  0.045505  0.002587  0.003140  0.051392  0.046525\n",
            "BND  0.002587  0.004521  0.003751  0.003205  0.002746\n",
            "GLD  0.003140  0.003751  0.022168  0.004418  0.003302\n",
            "QQQ  0.051392  0.003205  0.004418  0.066668  0.052497\n",
            "VTI  0.046525  0.002746  0.003302  0.052497  0.047943\n"
          ]
        }
      ]
    },
    {
      "cell_type": "code",
      "source": [
        "from re import S\n",
        "#calcuate portfolio performance metrics\n",
        "\n",
        "# 1. portfolio risk by portfolio Std\n",
        "\n",
        "def standard_deviation(weights,cov_matrix):\n",
        "  variance=weights.T @ cov_matrix @ weights\n",
        "  return np.sqrt(variance)\n",
        "\n",
        "# 2. expected return -- based on historical returns\n",
        "\n",
        "def expected_return (weights,log_returns):\n",
        "  return np.sum(log_returns.mean()*weights)*252\n"
      ],
      "metadata": {
        "id": "RHNHNUpmOw3o"
      },
      "execution_count": null,
      "outputs": []
    },
    {
      "cell_type": "code",
      "source": [
        "#calcualte the sharp ratio\n",
        "\n",
        "def sharpe_ratio (weights,log_returns,cov_matrix,risk_free_rate):\n",
        "  return(expected_return (weights,log_returns)-risk_free_rate)/standard_deviation(weights,cov_matrix)"
      ],
      "metadata": {
        "id": "Yj53u_HcQKvr"
      },
      "execution_count": null,
      "outputs": []
    },
    {
      "cell_type": "code",
      "source": [
        "pip install fredapi"
      ],
      "metadata": {
        "colab": {
          "base_uri": "https://localhost:8080/"
        },
        "id": "_2OVFT4lThmV",
        "outputId": "3dad444b-991e-488a-c59c-5ffdca7d15b0"
      },
      "execution_count": null,
      "outputs": [
        {
          "output_type": "stream",
          "name": "stdout",
          "text": [
            "Collecting fredapi\n",
            "  Downloading fredapi-0.5.1-py3-none-any.whl (11 kB)\n",
            "Requirement already satisfied: pandas in /usr/local/lib/python3.10/dist-packages (from fredapi) (1.5.3)\n",
            "Requirement already satisfied: python-dateutil>=2.8.1 in /usr/local/lib/python3.10/dist-packages (from pandas->fredapi) (2.8.2)\n",
            "Requirement already satisfied: pytz>=2020.1 in /usr/local/lib/python3.10/dist-packages (from pandas->fredapi) (2023.3.post1)\n",
            "Requirement already satisfied: numpy>=1.21.0 in /usr/local/lib/python3.10/dist-packages (from pandas->fredapi) (1.23.5)\n",
            "Requirement already satisfied: six>=1.5 in /usr/local/lib/python3.10/dist-packages (from python-dateutil>=2.8.1->pandas->fredapi) (1.16.0)\n",
            "Installing collected packages: fredapi\n",
            "Successfully installed fredapi-0.5.1\n"
          ]
        }
      ]
    },
    {
      "cell_type": "code",
      "source": [
        "#set the risk free rate\n",
        "from fredapi import Fred\n",
        "# easy way the risk free rate is 2% -- this is what is in the finance textbooks\n",
        "#use the federal reserve api, fred api https://fred.stlouisfed.org/docs/api/api_key.html\n",
        "\n",
        "fred=Fred(api_key='57b3e5a6eab0ce7cec8584d4cb4e26d0')\n",
        "ten_year_treasury_rate=fred.get_series_latest_release('GS10')/100\n",
        "risk_free_rate=ten_year_treasury_rate.iloc[-1]\n",
        "print(risk_free_rate)"
      ],
      "metadata": {
        "colab": {
          "base_uri": "https://localhost:8080/"
        },
        "id": "p4tNXLEDSUc-",
        "outputId": "fcd7802c-8b6d-4b30-b941-ba9f27964f7a"
      },
      "execution_count": null,
      "outputs": [
        {
          "output_type": "stream",
          "name": "stdout",
          "text": [
            "0.045\n"
          ]
        }
      ]
    },
    {
      "cell_type": "code",
      "source": [
        "#define function to minimze (negative Sharpe Ratio)\n",
        "#using the\n",
        "def neg_sharpe_ratio(weights,log_returns,cov_matrix,risk_free_rate):\n",
        "  return -sharpe_ratio (weights,log_returns,cov_matrix,risk_free_rate)"
      ],
      "metadata": {
        "id": "0tSt-ifTTfoy"
      },
      "execution_count": null,
      "outputs": []
    },
    {
      "cell_type": "code",
      "source": [
        "#set the constraints and bounds\n",
        "#sum of all portfolio weights must equal 1\n",
        "constraints={'type':'eq','fun':lambda weights:np.sum(weights)-1}\n",
        "\n",
        "#lower and upper bound for each weights, 0 for lower means you cant short any of the assets, 0.5 for higher means that any one of these stocks cant be more than 50% of the portfolio\n",
        "bounds=[(0,0.5) for _ in range(len(tickers))]\n"
      ],
      "metadata": {
        "id": "hHh_9FCTUNS0"
      },
      "execution_count": null,
      "outputs": []
    },
    {
      "cell_type": "code",
      "source": [
        "#set the initial weights -- each one is just equally weighted\n",
        "\n",
        "initial_weights = np.array([1/len(tickers)]*len(tickers))\n",
        "initial_weights"
      ],
      "metadata": {
        "colab": {
          "base_uri": "https://localhost:8080/"
        },
        "id": "nYEHpzRmU1o3",
        "outputId": "b5dcda57-0d74-4f8f-c59d-15b401b745dd"
      },
      "execution_count": null,
      "outputs": [
        {
          "output_type": "execute_result",
          "data": {
            "text/plain": [
              "array([0.2, 0.2, 0.2, 0.2, 0.2])"
            ]
          },
          "metadata": {},
          "execution_count": 28
        }
      ]
    },
    {
      "cell_type": "code",
      "source": [
        "#get the optimal weights to maximize sharp ratio\n",
        "#scipi doesnt have a maximize function, so if you do the smallest negative sharp ratio its same as maximize\n",
        "optimized_results=minimize(neg_sharpe_ratio, initial_weights,args=(log_returns,cov_matrix,risk_free_rate),method='SLSQP',constraints=constraints,bounds=bounds)"
      ],
      "metadata": {
        "id": "7R5sFT35XfxZ"
      },
      "execution_count": null,
      "outputs": []
    },
    {
      "cell_type": "code",
      "source": [
        "#get optimal weights\n",
        "\n",
        "optimal_weights=optimized_results.x"
      ],
      "metadata": {
        "id": "pG0C0Q_nYEB3"
      },
      "execution_count": null,
      "outputs": []
    },
    {
      "cell_type": "code",
      "source": [
        "#display the analytics of the portfolio\n",
        "\n",
        "print(\"Optimal Weights:\")\n",
        "for ticker, weight in zip(tickers, optimal_weights):\n",
        "    print(f\"{ticker}: {weight:.4f}\")\n",
        "\n",
        "optimal_portfolio_return = expected_return(optimal_weights, log_returns)\n",
        "optimal_portfolio_volatility = standard_deviation(optimal_weights, cov_matrix)\n",
        "optimal_sharpe_ratio = sharpe_ratio(optimal_weights, log_returns, cov_matrix, risk_free_rate)\n",
        "\n",
        "print(f\"Expected Annual Return: {optimal_portfolio_return:.4f}\")\n",
        "print(f\"Expected Volatility: {optimal_portfolio_volatility:.4f}\")\n",
        "print(f\"Sharpe Ratio: {optimal_sharpe_ratio:.4f}\")"
      ],
      "metadata": {
        "colab": {
          "base_uri": "https://localhost:8080/"
        },
        "id": "LKmAfWXbYvFS",
        "outputId": "1915075a-b5ad-459a-9b7a-2fa7351cef31"
      },
      "execution_count": null,
      "outputs": [
        {
          "output_type": "stream",
          "name": "stdout",
          "text": [
            "Optimal Weights:\n",
            "SPY: 0.0000\n",
            "BND: 0.0000\n",
            "GLD: 0.5000\n",
            "QQQ: 0.5000\n",
            "VTI: 0.0000\n",
            "Expected Annual Return: 0.1382\n",
            "Expected Volatility: 0.1563\n",
            "Sharpe Ratio: 0.5962\n"
          ]
        }
      ]
    },
    {
      "cell_type": "code",
      "source": [
        "import matplotlib.pyplot as plt\n",
        "\n",
        "plt.figure(figsize=(10, 6))\n",
        "plt.bar(tickers, optimal_weights)\n",
        "\n",
        "plt.xlabel('Assets')\n",
        "plt.ylabel('Optimal Weights')\n",
        "plt.title('Optimal Portfolio Weights')\n",
        "\n",
        "plt.show()"
      ],
      "metadata": {
        "colab": {
          "base_uri": "https://localhost:8080/",
          "height": 469
        },
        "id": "MTGs2EwJY4MP",
        "outputId": "34058d49-ebe2-4b1e-bfaf-8e1a4e38b380"
      },
      "execution_count": null,
      "outputs": [
        {
          "output_type": "display_data",
          "data": {
            "text/plain": [
              "<Figure size 1000x600 with 1 Axes>"
            ],
            "image/png": "[encoded data removed]"
          },
          "metadata": {}
        }
      ]
    },
    {
      "cell_type": "code",
      "source": [],
      "metadata": {
        "id": "E3ahFUMzZCeY"
      },
      "execution_count": null,
      "outputs": []
    }
  ]
}